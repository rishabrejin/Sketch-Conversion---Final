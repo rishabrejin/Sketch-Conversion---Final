{
 "cells": [
  {
   "cell_type": "code",
   "execution_count": 1,
   "metadata": {
    "collapsed": false
   },
   "outputs": [
    {
     "name": "stderr",
     "output_type": "stream",
     "text": [
      "[INFO   ] [Logger      ] Record log in C:\\Users\\Rejin Joy\\.kivy\\logs\\kivy_17-04-20_2.txt\n",
      "[INFO   ] [Kivy        ] v1.9.2.dev0, git-fd01c09, 20170419\n",
      "[INFO   ] [Python      ] v3.5.2 |Anaconda custom (64-bit)| (default, Jul  5 2016, 11:41:13) [MSC v.1900 64 bit (AMD64)]\n",
      "[INFO   ] [Factory     ] 194 symbols loaded\n",
      "[INFO   ] [Image       ] Providers: img_tex, img_dds, img_sdl2, img_pil, img_gif (img_ffpyplayer ignored)\n",
      "[INFO   ] [Text        ] Provider: sdl2\n",
      "[INFO   ] [OSC         ] using <thread> for socket\n",
      "[INFO   ] [Window      ] Provider: sdl2\n",
      "[INFO   ] [GL          ] Using the \"OpenGL\" graphics system\n",
      "[INFO   ] [GL          ] GLEW initialization succeeded\n",
      "[INFO   ] [GL          ] Backend used <glew>\n",
      "[INFO   ] [GL          ] OpenGL version <b'4.4.0 - Build 21.20.16.4550'>\n",
      "[INFO   ] [GL          ] OpenGL vendor <b'Intel'>\n",
      "[INFO   ] [GL          ] OpenGL renderer <b'Intel(R) HD Graphics 530'>\n",
      "[INFO   ] [GL          ] OpenGL parsed version: 4, 4\n",
      "[INFO   ] [GL          ] Shading version <b'4.40 - Build 21.20.16.4550'>\n",
      "[INFO   ] [GL          ] Texture max size <16384>\n",
      "[INFO   ] [GL          ] Texture max units <32>\n",
      "[INFO   ] [Shader      ] fragment shader: <b\"WARNING: 0:7: '' :  #version directive missing\">\n",
      "[INFO   ] [Shader      ] vertex shader: <b\"WARNING: 0:7: '' :  #version directive missing\">\n",
      "[INFO   ] [Window      ] auto add sdl2 input provider\n",
      "[INFO   ] [Window      ] virtual keyboard not allowed, single mode, not docked\n",
      "[INFO   ] [Base        ] Start application main loop\n",
      "[INFO   ] [GL          ] NPOT texture support is available\n",
      "[INFO   ] [Base        ] Leaving application in progress...\n"
     ]
    }
   ],
   "source": [
    "from random import random\n",
    "from kivy.app import App\n",
    "from kivy.uix.widget import Widget\n",
    "from kivy.uix.button import Button\n",
    "from kivy.graphics import Color, Ellipse, Line\n",
    "from kivy.core.window import Window\n",
    "from kivy.graphics import Canvas, Translate, Fbo, ClearColor, ClearBuffers\n",
    "from kivy.event import EventDispatcher\n",
    "from kivy.factory import Factory\n",
    "from kivy.properties import (\n",
    "    NumericProperty, StringProperty, AliasProperty, ReferenceListProperty,\n",
    "    ObjectProperty, ListProperty, DictProperty, BooleanProperty)\n",
    "from kivy.graphics import (\n",
    "    Canvas, Translate, Fbo, ClearColor, ClearBuffers, Scale)\n",
    "from kivy.graphics.transformation import Matrix\n",
    "from kivy.base import EventLoop\n",
    "from kivy.lang import Builder\n",
    "from kivy.context import get_current_context\n",
    "from kivy.weakproxy import WeakProxy\n",
    "from functools import partial\n",
    "from itertools import islice\n",
    "\n",
    "Window.clearcolor = (1, 1, 1, 1)\n",
    "\n",
    "class MyPaintWidget(Widget):\n",
    "    \n",
    "    def on_touch_down(self, touch):\n",
    "        with self.canvas:\n",
    "            Color(0, 0, 0, 1)\n",
    "            #d = 30.\n",
    "            #Ellipse(pos=(touch.x - d / 2, touch.y - d / 2))\n",
    "            touch.ud['line'] = Line(points=(touch.x, touch.y))\n",
    "\n",
    "    def on_touch_move(self, touch):\n",
    "        touch.ud['line'].points += [touch.x, touch.y]\n",
    "        global parent\n",
    "        parent.export_to_png('b.png')\n",
    "    \n",
    "    #def on_touch_release(self, touch):\n",
    "        \n",
    "#class cameraWidget(Widget):\n",
    "  \n",
    "    \n",
    "\n",
    "class MyPaintApp(App):\n",
    "    \n",
    "    global parent\n",
    "    def build(self):\n",
    "        global parent\n",
    "        parent = Widget()\n",
    "        #self.painter = MyPaintWidget()\n",
    "        \n",
    "        \n",
    "        self.painter = MyPaintWidget(size=(800,600))\n",
    "        clearbtn = Button(text='Clear')\n",
    "        clearbtn.bind(on_release=self.clear_canvas)    \n",
    "                   \n",
    "        #savebtn = Button(text='Save')\n",
    "        #savebtn.bind(on_release=self.save_canvas)\n",
    "        parent.add_widget(self.painter)\n",
    "        parent.add_widget(clearbtn)\n",
    "        #parent.add_widget(savebtn)\n",
    "        #parent.add_widget(cameraWidget)\n",
    "        #parent.add_widget(ssbtn)\n",
    "        return parent\n",
    "\n",
    "    def clear_canvas(self, obj):\n",
    "        self.painter.canvas.clear()\n",
    "        \n",
    "    #def save_canvas(self, obj):\n",
    "      #  global parent\n",
    "        #parent.export_to_png('b.png')\n",
    "    \n",
    "\n",
    "if __name__ == '__main__':\n",
    "    MyPaintApp().run()\n",
    "    \n",
    "exit()"
   ]
  },
  {
   "cell_type": "code",
   "execution_count": 2,
   "metadata": {
    "collapsed": false
   },
   "outputs": [
    {
     "ename": "ImportError",
     "evalue": "No module named 'tensorflow'",
     "output_type": "error",
     "traceback": [
      "\u001b[0;31m---------------------------------------------------------------------------\u001b[0m",
      "\u001b[0;31mImportError\u001b[0m                               Traceback (most recent call last)",
      "\u001b[0;32m<ipython-input-2-779020d085ef>\u001b[0m in \u001b[0;36m<module>\u001b[0;34m()\u001b[0m\n\u001b[0;32m----> 1\u001b[0;31m \u001b[1;32mimport\u001b[0m \u001b[0mtensorflow\u001b[0m \u001b[1;32mas\u001b[0m \u001b[0mtf\u001b[0m\u001b[1;33m\u001b[0m\u001b[0m\n\u001b[0m\u001b[1;32m      2\u001b[0m \u001b[1;33m\u001b[0m\u001b[0m\n\u001b[1;32m      3\u001b[0m \u001b[1;33m\u001b[0m\u001b[0m\n\u001b[1;32m      4\u001b[0m \u001b[1;33m\u001b[0m\u001b[0m\n\u001b[1;32m      5\u001b[0m \u001b[1;33m\u001b[0m\u001b[0m\n",
      "\u001b[0;31mImportError\u001b[0m: No module named 'tensorflow'"
     ]
    }
   ],
   "source": [
    "import tensorflow as tf\n",
    "\n",
    "\n",
    "\n",
    "\n",
    "hello = tf.constant('Hello, TensorFlow!')\n",
    "sess = tf.Session()\n",
    "print(sess.run(hello))"
   ]
  }
 ],
 "metadata": {
  "anaconda-cloud": {},
  "kernelspec": {
   "display_name": "Python [default]",
   "language": "python",
   "name": "python3"
  },
  "language_info": {
   "codemirror_mode": {
    "name": "ipython",
    "version": 3
   },
   "file_extension": ".py",
   "mimetype": "text/x-python",
   "name": "python",
   "nbconvert_exporter": "python",
   "pygments_lexer": "ipython3",
   "version": "3.5.2"
  }
 },
 "nbformat": 4,
 "nbformat_minor": 0
}
